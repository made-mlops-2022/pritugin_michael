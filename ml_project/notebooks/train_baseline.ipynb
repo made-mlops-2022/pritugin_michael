version https://git-lfs.github.com/spec/v1
oid sha256:5e83901f54537a298623c5c9caa21500d6ef3497076b502a5aa8d09dd33cb497
size 954
